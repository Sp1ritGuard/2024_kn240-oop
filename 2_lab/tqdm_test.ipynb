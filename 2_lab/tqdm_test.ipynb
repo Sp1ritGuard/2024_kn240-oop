{
 "cells": [
  {
   "cell_type": "code",
   "execution_count": null,
   "id": "17d5e95a",
   "metadata": {},
   "outputs": [],
   "source": [
    "from tqdm import tqdm\n",
    "from time import sleep"
   ]
  },
  {
   "cell_type": "code",
   "execution_count": null,
   "id": "2d747f03",
   "metadata": {},
   "outputs": [],
   "source": [
    "l = [1, 2, 3, 4]\n",
    "\n",
    "\n",
    "for i in tqdm(l):\n",
    "    sleep(1)"
   ]
  },
  {
   "cell_type": "code",
   "execution_count": null,
   "id": "c579d892",
   "metadata": {},
   "outputs": [],
   "source": [
    "r = range(5)\n",
    "for i in tqdm(r):\n",
    "    sleep(1)"
   ]
  },
  {
   "cell_type": "code",
   "execution_count": null,
   "id": "00af6f56",
   "metadata": {},
   "outputs": [],
   "source": [
    "from concurrent.futures import ThreadPoolExecutor\n",
    "from threading import current_thread\n",
    "import math\n",
    "from tqdm.notebook import tqdm\n",
    "\n",
    "def check_thread(v):\n",
    "    \"\"\"Функція для багатопоточночті через треди\n",
    "    \"\"\"\n",
    "    thread = current_thread()\n",
    "    print(f\"{v}: імя потоку={thread.name}\")\n",
    "    for _ in tqdm(range(v), desc=\"Ітерація в треді\", leave=False):\n",
    "        sleep(1)\n",
    "    a = math.sqrt(64^v)\n",
    "    return a\n",
    "\n",
    "with ThreadPoolExecutor(max_workers=2) as executor:\n",
    "    list(tqdm(executor.map(check_thread, range(10)), total=10, desc=\"Start>>>\"))"
   ]
  },
  {
   "cell_type": "code",
   "execution_count": null,
   "id": "ce1ea80c",
   "metadata": {},
   "outputs": [],
   "source": [
    "for i in tqdm(range(5), desc=\"Загальний прогрес\"):\n",
    "    for j in tqdm(range(10), desc=\"Внутрішня ітерація\", leave=False):\n",
    "        sleep(0.1)"
   ]
  },
  {
   "cell_type": "code",
   "execution_count": null,
   "id": "ca9c65d6",
   "metadata": {},
   "outputs": [],
   "source": [
    "def my_generator(x):\n",
    "    print(f\"Ітерація {x}\")\n",
    "    yield x+1\n",
    "    print(f\"Після yield\")\n",
    "\n",
    "print(f\"Перший прінт: {next(my_generator(1))}\")\n",
    "\n",
    "g = my_generator\n",
    "for i in range(10):\n",
    "    print(f\"Вивід з циклу, {i} будемо мати генаратор {next(g(i))}\")"
   ]
  },
  {
   "cell_type": "code",
   "execution_count": null,
   "id": "174655f4",
   "metadata": {},
   "outputs": [],
   "source": [
    "def my_gen_test():\n",
    "    for i in [1,4,5]:\n",
    "        print (\"Перед yield\")\n",
    "        sleep(2)\n",
    "        yield i\n",
    "        print(\"Після yield\")\n",
    "        sleep(2)\n",
    "\n",
    "    return None"
   ]
  },
  {
   "cell_type": "code",
   "execution_count": null,
   "id": "96aa74c6",
   "metadata": {},
   "outputs": [],
   "source": [
    "for m in my_gen_test():\n",
    "    print (f\"Вивід з генератора:  {m}\")"
   ]
  },
  {
   "cell_type": "code",
   "execution_count": null,
   "id": "7a5b228b",
   "metadata": {},
   "outputs": [],
   "source": [
    "i = my_gen_test()\n",
    "next(i)\n",
    "next(i)\n",
    "next(i)"
   ]
  },
  {
   "cell_type": "code",
   "execution_count": null,
   "id": "439457b1",
   "metadata": {},
   "outputs": [],
   "source": [
    "import csv\n",
    "\n",
    "f = csv.reader(open(\"1.csv\"))\n",
    "\n",
    "for s in f:\n",
    "    print(s)"
   ]
  },
  {
   "cell_type": "code",
   "execution_count": null,
   "id": "d8ca6ed4",
   "metadata": {},
   "outputs": [],
   "source": [
    "def get_csv():\n",
    "    # with open(\"1.csv\") as c:\n",
    "    #     for s in csv.reader(c):\n",
    "    #         yield s\n",
    "    yield [s for s in csv.reader(open('1.csv'))]\n",
    "    \n",
    "for ss in get_csv():\n",
    "    print (list(ss))"
   ]
  },
  {
   "cell_type": "code",
   "execution_count": null,
   "id": "f8feaa8b",
   "metadata": {},
   "outputs": [],
   "source": [
    "import csv\n",
    "import string\n",
    "import random\n",
    "\n",
    "with(open(\"1.csv\", 'a')) as f:\n",
    "    wr = csv.writer(f)\n",
    "    for i in range(100000):\n",
    "        ss = \"\".join(random.choices(string.ascii_letters, k = 3))\n",
    "        wr.writerow([random.choice(string.digits), \"tt\", 0, ss])"
   ]
  }
 ],
 "metadata": {
  "kernelspec": {
   "display_name": "Python 3",
   "language": "python",
   "name": "python3"
  },
  "language_info": {
   "codemirror_mode": {
    "name": "ipython",
    "version": 3
   },
   "file_extension": ".py",
   "mimetype": "text/x-python",
   "name": "python",
   "nbconvert_exporter": "python",
   "pygments_lexer": "ipython3",
   "version": "3.13.3"
  }
 },
 "nbformat": 4,
 "nbformat_minor": 5
}
